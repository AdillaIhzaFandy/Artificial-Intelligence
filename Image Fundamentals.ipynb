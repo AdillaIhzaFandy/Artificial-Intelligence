{
 "cells": [
  {
   "cell_type": "code",
   "execution_count": 1,
   "metadata": {},
   "outputs": [],
   "source": [
    "import cv2"
   ]
  },
  {
   "cell_type": "code",
   "execution_count": 2,
   "metadata": {},
   "outputs": [],
   "source": [
    "# membaca image\n",
    "image = cv2.imread(\"leaf.jpg\")"
   ]
  },
  {
   "cell_type": "code",
   "execution_count": 3,
   "metadata": {},
   "outputs": [
    {
     "name": "stdout",
     "output_type": "stream",
     "text": [
      "[[[255 255 255]\n",
      "  [255 255 255]\n",
      "  [255 255 255]\n",
      "  ...\n",
      "  [255 255 255]\n",
      "  [255 255 255]\n",
      "  [255 255 255]]\n",
      "\n",
      " [[255 255 255]\n",
      "  [255 255 255]\n",
      "  [255 255 255]\n",
      "  ...\n",
      "  [255 255 255]\n",
      "  [255 255 255]\n",
      "  [255 255 255]]\n",
      "\n",
      " [[255 255 255]\n",
      "  [255 255 255]\n",
      "  [255 255 255]\n",
      "  ...\n",
      "  [255 255 255]\n",
      "  [255 255 255]\n",
      "  [255 255 255]]\n",
      "\n",
      " ...\n",
      "\n",
      " [[255 255 255]\n",
      "  [255 255 255]\n",
      "  [255 255 255]\n",
      "  ...\n",
      "  [255 255 255]\n",
      "  [255 255 255]\n",
      "  [255 255 255]]\n",
      "\n",
      " [[255 255 255]\n",
      "  [255 255 255]\n",
      "  [255 255 255]\n",
      "  ...\n",
      "  [255 255 255]\n",
      "  [255 255 255]\n",
      "  [255 255 255]]\n",
      "\n",
      " [[255 255 255]\n",
      "  [255 255 255]\n",
      "  [255 255 255]\n",
      "  ...\n",
      "  [255 255 255]\n",
      "  [255 255 255]\n",
      "  [255 255 255]]]\n"
     ]
    }
   ],
   "source": [
    "print(image)"
   ]
  },
  {
   "cell_type": "code",
   "execution_count": 13,
   "metadata": {},
   "outputs": [],
   "source": [
    "# menampilkan image\n",
    "cv2.imshow('leaf', image)\n",
    "cv2.waitKey(0)\n",
    "cv2.destroyAllWindows()"
   ]
  },
  {
   "cell_type": "code",
   "execution_count": 15,
   "metadata": {},
   "outputs": [
    {
     "name": "stdout",
     "output_type": "stream",
     "text": [
      "(1200, 1600, 3)\n"
     ]
    }
   ],
   "source": [
    "print(image.shape)"
   ]
  },
  {
   "cell_type": "code",
   "execution_count": 12,
   "metadata": {},
   "outputs": [
    {
     "name": "stdout",
     "output_type": "stream",
     "text": [
      "blue = 8\n",
      "green =  91\n",
      "red =  53\n"
     ]
    }
   ],
   "source": [
    "# mengakses nilai di pixel x=500, y=650\n",
    "(b, g, r) = image[650, 500]\n",
    "print(\"blue =\", b)\n",
    "print(\"green = \", g)\n",
    "print(\"red = \", r)"
   ]
  },
  {
   "cell_type": "code",
   "execution_count": 7,
   "metadata": {},
   "outputs": [
    {
     "name": "stdout",
     "output_type": "stream",
     "text": [
      "(560, 280, 3)\n"
     ]
    }
   ],
   "source": [
    "# crop image\n",
    "im_crop = image[100:660, 100:380]\n",
    "cv2.imshow('crop',im_crop)\n",
    "cv2.waitKey(0)\n",
    "cv2.destroyAllWindows()\n",
    "print(im_crop.shape)"
   ]
  },
  {
   "cell_type": "code",
   "execution_count": 46,
   "metadata": {},
   "outputs": [
    {
     "name": "stdout",
     "output_type": "stream",
     "text": [
      "(1200, 1600, 3)\n"
     ]
    }
   ],
   "source": [
    "# mengcopy image\n",
    "cp_image = image.copy()\n",
    "print(cp_image.shape)\n"
   ]
  },
  {
   "cell_type": "code",
   "execution_count": 11,
   "metadata": {},
   "outputs": [],
   "source": [
    "# mengubah nilai pixel\n",
    "cp_image[600:650, 370:500] = (100, 255, 240)\n",
    "cv2.imshow('cp_image',cp_image)\n",
    "cv2.waitKey(0)\n",
    "cv2.destroyAllWindows() \n"
   ]
  },
  {
   "cell_type": "code",
   "execution_count": 45,
   "metadata": {},
   "outputs": [
    {
     "name": "stdout",
     "output_type": "stream",
     "text": [
      "(400, 400, 3)\n"
     ]
    }
   ],
   "source": [
    "# resize image (ignore aspect ratio)\n",
    "im_resized = cv2.resize(image, (400,400))\n",
    "cv2.imshow('im_resized',im_resized)\n",
    "cv2.waitKey(0)\n",
    "cv2.destroyAllWindows()\n",
    "print(im_resized.shape)\n"
   ]
  },
  {
   "cell_type": "code",
   "execution_count": 44,
   "metadata": {},
   "outputs": [
    {
     "name": "stdout",
     "output_type": "stream",
     "text": [
      "(300, 400, 3)\n"
     ]
    },
    {
     "data": {
      "text/plain": [
       "True"
      ]
     },
     "execution_count": 44,
     "metadata": {},
     "output_type": "execute_result"
    }
   ],
   "source": [
    "# resize image (mempertahankan aspect ratio)\n",
    "r = 400/image.shape[1]\n",
    "dim = (400,int(image.shape[0]*r))\n",
    "im_resized = cv2.resize(image, dim)\n",
    "cv2.imshow('im_resized',im_resized)\n",
    "cv2.waitKey(0)\n",
    "cv2.destroyAllWindows()\n",
    "print(im_resized.shape)\n",
    "cv2.imwrite(\"resize.png\", im_resized)\n"
   ]
  },
  {
   "cell_type": "code",
   "execution_count": 26,
   "metadata": {},
   "outputs": [],
   "source": [
    "# Rotating an image\n",
    "(h, w) = image.shape[:2]\n",
    "center = (w/2, h/2)\n",
    "M = cv2.getRotationMatrix2D(center, 90, 1.0)\n",
    "rotated = cv2.warpAffine(image, M, (w,h))\n",
    "cv2.imshow('rotate',rotated)\n",
    "cv2.waitKey(0)\n",
    "cv2.destroyAllWindows()\n"
   ]
  },
  {
   "cell_type": "code",
   "execution_count": 28,
   "metadata": {},
   "outputs": [
    {
     "data": {
      "text/plain": [
       "True"
      ]
     },
     "execution_count": 28,
     "metadata": {},
     "output_type": "execute_result"
    }
   ],
   "source": [
    "# menyimpan image\n",
    "cv2.imwrite(\"rotate.png\", rotated)"
   ]
  },
  {
   "cell_type": "code",
   "execution_count": 50,
   "metadata": {},
   "outputs": [
    {
     "name": "stdout",
     "output_type": "stream",
     "text": [
      "(400, 400, 3)\n"
     ]
    }
   ],
   "source": [
    "# adjust image contrast\n",
    "import numpy as np\n",
    "im_adjusted = cv2.addWeighted(im_resized, 1.5, np.zeros(im_resized.shape, im_resized.dtype), 0, -100)\n",
    "cv2.imshow('Original Image',im_resized)\n",
    "cv2.imshow('Adjusted Image',im_adjusted)\n",
    "cv2.waitKey(0)\n",
    "cv2.destroyAllWindows()\n",
    "print(im_resized.shape)\n"
   ]
  },
  {
   "cell_type": "code",
   "execution_count": 34,
   "metadata": {},
   "outputs": [],
   "source": [
    "# detect edges\n",
    "im_edges = cv2.Canny(im_resized, 100, 200)\n",
    "cv2.imshow('Original Image',im_resized)\n",
    "cv2.imshow('Detected Edges',im_edges)\n",
    "cv2.waitKey(0)\n",
    "cv2.destroyAllWindows()\n"
   ]
  },
  {
   "cell_type": "code",
   "execution_count": 35,
   "metadata": {},
   "outputs": [],
   "source": [
    "# convert image to grayscale\n",
    "im_gray = cv2.cvtColor(im_resized, cv2.COLOR_BGR2GRAY)\n",
    "cv2.imshow('Original Image',im_resized)\n",
    "cv2.imshow('Grayscale Image',im_gray)\n",
    "cv2.waitKey(0)\n",
    "cv2.destroyAllWindows()\n"
   ]
  },
  {
   "cell_type": "code",
   "execution_count": 53,
   "metadata": {},
   "outputs": [
    {
     "name": "stdout",
     "output_type": "stream",
     "text": [
      "Directory 'Sirih_Graye' created\n"
     ]
    }
   ],
   "source": [
    "# membuat folder\n",
    "import os\n",
    "directory = \"Sirih_Gray\"\n",
    "parent_dir = \"X:/AI/Image Processing/Dataset\"\n",
    "path = os.path.join(parent_dir, directory)\n",
    "\n",
    "try: \n",
    "    os.mkdir(path) \n",
    "    print(\"Directory '% s' created\" % directory)\n",
    "except OSError as error: \n",
    "    print(error) "
   ]
  },
  {
   "cell_type": "code",
   "execution_count": 54,
   "metadata": {},
   "outputs": [],
   "source": [
    "# get all files in a folder\n",
    "import glob\n",
    "\n",
    "imdir = 'Dataset/Sirih/'\n",
    "ext = ['png', 'jpg', 'gif']    # Add image formats here\n",
    "\n",
    "files = []\n",
    "[files.extend(glob.glob(imdir + '*.' + e)) for e in ext]\n",
    "\n",
    "images = [cv2.imread(file) for file in files]\n",
    "\n",
    "# adjust contrast to all of them nd save to different location\n",
    "i = 1\n",
    "for img in images:\n",
    "    im_gray = cv2.cvtColor(image, cv2.COLOR_BGR2GRAY)\n",
    "    #im_adjusted = cv2.addWeighted(img, 1.5, np.zeros(img.shape, img.dtype), 0, -100)\n",
    "    im_name = \"Dataset/Sirih_Gray/\" + str(i) + \".jpg\"\n",
    "    cv2.imwrite(im_name, im_gray)\n",
    "    i+=1\n"
   ]
  }
 ],
 "metadata": {
  "interpreter": {
   "hash": "58789113aca0e8e9135cb3aebe2c882c83a4c9bf14430a7adcd9e5e2b096069c"
  },
  "kernelspec": {
   "display_name": "Python 3.9.2 64-bit",
   "language": "python",
   "name": "python3"
  },
  "language_info": {
   "codemirror_mode": {
    "name": "ipython",
    "version": 3
   },
   "file_extension": ".py",
   "mimetype": "text/x-python",
   "name": "python",
   "nbconvert_exporter": "python",
   "pygments_lexer": "ipython3",
   "version": "3.9.2"
  },
  "orig_nbformat": 4
 },
 "nbformat": 4,
 "nbformat_minor": 2
}
